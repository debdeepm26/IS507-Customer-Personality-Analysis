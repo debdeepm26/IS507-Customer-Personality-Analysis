{
 "cells": [
  {
   "cell_type": "markdown",
   "id": "265ab0cb-6359-4dd6-a071-ac8e4e4ddaf3",
   "metadata": {},
   "source": [
    "# Group 3 Distribution\n",
    "\n",
    "* Data Engineering + Modelling -> Debdeep\n",
    "* PCA -> Shardul\n",
    "* PCA + Modelling -> Neha\n",
    "* CFA -> Kirti\n",
    "* CCA -> Richard\n",
    "* CA ->  Sanmil"
   ]
  },
  {
   "cell_type": "code",
   "execution_count": 3,
   "id": "5fbc6c74-2c4b-4218-9785-8ed9321c6c15",
   "metadata": {},
   "outputs": [],
   "source": [
    "import numpy as np\n",
    "import pandas as pd\n",
    "pd.set_option('display.max_columns', None)\n",
    "\n",
    "from datetime import datetime\n",
    "now = datetime.now()\n",
    "\n",
    "import warnings\n",
    "warnings.filterwarnings(\"ignore\")\n",
    "\n",
    "from sklearn.impute import SimpleImputer\n",
    "import matplotlib.pyplot as plt\n",
    "import seaborn as sns"
   ]
  },
  {
   "cell_type": "markdown",
   "id": "f8288757-38d6-4aa1-9702-56d7c1b7adf3",
   "metadata": {},
   "source": [
    "# Read Data"
   ]
  },
  {
   "cell_type": "code",
   "execution_count": 4,
   "id": "bb5b072f-c3f4-4295-8909-08de6a78f751",
   "metadata": {},
   "outputs": [],
   "source": [
    "customer_data = pd.read_csv(\"../Dataset/marketing_campaign.csv\", delimiter='\\t', index_col='ID', infer_datetime_format=True)"
   ]
  },
  {
   "cell_type": "code",
   "execution_count": 5,
   "id": "bf421421-3070-493b-9a29-7e780c4a0cfb",
   "metadata": {},
   "outputs": [
    {
     "data": {
      "text/plain": "(2240, 28)"
     },
     "execution_count": 5,
     "metadata": {},
     "output_type": "execute_result"
    }
   ],
   "source": [
    "customer_data.shape"
   ]
  },
  {
   "cell_type": "code",
   "execution_count": 6,
   "id": "472bf15e-8169-406c-abe7-43e0f4973765",
   "metadata": {},
   "outputs": [
    {
     "data": {
      "text/plain": "      Year_Birth   Education Marital_Status   Income  Kidhome  Teenhome  \\\nID                                                                        \n5524        1957  Graduation         Single  58138.0        0         0   \n2174        1954  Graduation         Single  46344.0        1         1   \n4141        1965  Graduation       Together  71613.0        0         0   \n6182        1984  Graduation       Together  26646.0        1         0   \n5324        1981         PhD        Married  58293.0        1         0   \n7446        1967      Master       Together  62513.0        0         1   \n965         1971  Graduation       Divorced  55635.0        0         1   \n6177        1985         PhD        Married  33454.0        1         0   \n4855        1974         PhD       Together  30351.0        1         0   \n5899        1950         PhD       Together   5648.0        1         1   \n\n     Dt_Customer  Recency  MntWines  MntFruits  MntMeatProducts  \\\nID                                                                \n5524  04-09-2012       58       635         88              546   \n2174  08-03-2014       38        11          1                6   \n4141  21-08-2013       26       426         49              127   \n6182  10-02-2014       26        11          4               20   \n5324  19-01-2014       94       173         43              118   \n7446  09-09-2013       16       520         42               98   \n965   13-11-2012       34       235         65              164   \n6177  08-05-2013       32        76         10               56   \n4855  06-06-2013       19        14          0               24   \n5899  13-03-2014       68        28          0                6   \n\n      MntFishProducts  MntSweetProducts  MntGoldProds  NumDealsPurchases  \\\nID                                                                         \n5524              172                88            88                  3   \n2174                2                 1             6                  2   \n4141              111                21            42                  1   \n6182               10                 3             5                  2   \n5324               46                27            15                  5   \n7446                0                42            14                  2   \n965                50                49            27                  4   \n6177                3                 1            23                  2   \n4855                3                 3             2                  1   \n5899                1                 1            13                  1   \n\n      NumWebPurchases  NumCatalogPurchases  NumStorePurchases  \\\nID                                                              \n5524                8                   10                  4   \n2174                1                    1                  2   \n4141                8                    2                 10   \n6182                2                    0                  4   \n5324                5                    3                  6   \n7446                6                    4                 10   \n965                 7                    3                  7   \n6177                4                    0                  4   \n4855                3                    0                  2   \n5899                1                    0                  0   \n\n      NumWebVisitsMonth  AcceptedCmp3  AcceptedCmp4  AcceptedCmp5  \\\nID                                                                  \n5524                  7             0             0             0   \n2174                  5             0             0             0   \n4141                  4             0             0             0   \n6182                  6             0             0             0   \n5324                  5             0             0             0   \n7446                  6             0             0             0   \n965                   6             0             0             0   \n6177                  8             0             0             0   \n4855                  9             0             0             0   \n5899                 20             1             0             0   \n\n      AcceptedCmp1  AcceptedCmp2  Complain  Z_CostContact  Z_Revenue  Response  \nID                                                                              \n5524             0             0         0              3         11         1  \n2174             0             0         0              3         11         0  \n4141             0             0         0              3         11         0  \n6182             0             0         0              3         11         0  \n5324             0             0         0              3         11         0  \n7446             0             0         0              3         11         0  \n965              0             0         0              3         11         0  \n6177             0             0         0              3         11         0  \n4855             0             0         0              3         11         1  \n5899             0             0         0              3         11         0  ",
      "text/html": "<div>\n<style scoped>\n    .dataframe tbody tr th:only-of-type {\n        vertical-align: middle;\n    }\n\n    .dataframe tbody tr th {\n        vertical-align: top;\n    }\n\n    .dataframe thead th {\n        text-align: right;\n    }\n</style>\n<table border=\"1\" class=\"dataframe\">\n  <thead>\n    <tr style=\"text-align: right;\">\n      <th></th>\n      <th>Year_Birth</th>\n      <th>Education</th>\n      <th>Marital_Status</th>\n      <th>Income</th>\n      <th>Kidhome</th>\n      <th>Teenhome</th>\n      <th>Dt_Customer</th>\n      <th>Recency</th>\n      <th>MntWines</th>\n      <th>MntFruits</th>\n      <th>MntMeatProducts</th>\n      <th>MntFishProducts</th>\n      <th>MntSweetProducts</th>\n      <th>MntGoldProds</th>\n      <th>NumDealsPurchases</th>\n      <th>NumWebPurchases</th>\n      <th>NumCatalogPurchases</th>\n      <th>NumStorePurchases</th>\n      <th>NumWebVisitsMonth</th>\n      <th>AcceptedCmp3</th>\n      <th>AcceptedCmp4</th>\n      <th>AcceptedCmp5</th>\n      <th>AcceptedCmp1</th>\n      <th>AcceptedCmp2</th>\n      <th>Complain</th>\n      <th>Z_CostContact</th>\n      <th>Z_Revenue</th>\n      <th>Response</th>\n    </tr>\n    <tr>\n      <th>ID</th>\n      <th></th>\n      <th></th>\n      <th></th>\n      <th></th>\n      <th></th>\n      <th></th>\n      <th></th>\n      <th></th>\n      <th></th>\n      <th></th>\n      <th></th>\n      <th></th>\n      <th></th>\n      <th></th>\n      <th></th>\n      <th></th>\n      <th></th>\n      <th></th>\n      <th></th>\n      <th></th>\n      <th></th>\n      <th></th>\n      <th></th>\n      <th></th>\n      <th></th>\n      <th></th>\n      <th></th>\n      <th></th>\n    </tr>\n  </thead>\n  <tbody>\n    <tr>\n      <th>5524</th>\n      <td>1957</td>\n      <td>Graduation</td>\n      <td>Single</td>\n      <td>58138.0</td>\n      <td>0</td>\n      <td>0</td>\n      <td>04-09-2012</td>\n      <td>58</td>\n      <td>635</td>\n      <td>88</td>\n      <td>546</td>\n      <td>172</td>\n      <td>88</td>\n      <td>88</td>\n      <td>3</td>\n      <td>8</td>\n      <td>10</td>\n      <td>4</td>\n      <td>7</td>\n      <td>0</td>\n      <td>0</td>\n      <td>0</td>\n      <td>0</td>\n      <td>0</td>\n      <td>0</td>\n      <td>3</td>\n      <td>11</td>\n      <td>1</td>\n    </tr>\n    <tr>\n      <th>2174</th>\n      <td>1954</td>\n      <td>Graduation</td>\n      <td>Single</td>\n      <td>46344.0</td>\n      <td>1</td>\n      <td>1</td>\n      <td>08-03-2014</td>\n      <td>38</td>\n      <td>11</td>\n      <td>1</td>\n      <td>6</td>\n      <td>2</td>\n      <td>1</td>\n      <td>6</td>\n      <td>2</td>\n      <td>1</td>\n      <td>1</td>\n      <td>2</td>\n      <td>5</td>\n      <td>0</td>\n      <td>0</td>\n      <td>0</td>\n      <td>0</td>\n      <td>0</td>\n      <td>0</td>\n      <td>3</td>\n      <td>11</td>\n      <td>0</td>\n    </tr>\n    <tr>\n      <th>4141</th>\n      <td>1965</td>\n      <td>Graduation</td>\n      <td>Together</td>\n      <td>71613.0</td>\n      <td>0</td>\n      <td>0</td>\n      <td>21-08-2013</td>\n      <td>26</td>\n      <td>426</td>\n      <td>49</td>\n      <td>127</td>\n      <td>111</td>\n      <td>21</td>\n      <td>42</td>\n      <td>1</td>\n      <td>8</td>\n      <td>2</td>\n      <td>10</td>\n      <td>4</td>\n      <td>0</td>\n      <td>0</td>\n      <td>0</td>\n      <td>0</td>\n      <td>0</td>\n      <td>0</td>\n      <td>3</td>\n      <td>11</td>\n      <td>0</td>\n    </tr>\n    <tr>\n      <th>6182</th>\n      <td>1984</td>\n      <td>Graduation</td>\n      <td>Together</td>\n      <td>26646.0</td>\n      <td>1</td>\n      <td>0</td>\n      <td>10-02-2014</td>\n      <td>26</td>\n      <td>11</td>\n      <td>4</td>\n      <td>20</td>\n      <td>10</td>\n      <td>3</td>\n      <td>5</td>\n      <td>2</td>\n      <td>2</td>\n      <td>0</td>\n      <td>4</td>\n      <td>6</td>\n      <td>0</td>\n      <td>0</td>\n      <td>0</td>\n      <td>0</td>\n      <td>0</td>\n      <td>0</td>\n      <td>3</td>\n      <td>11</td>\n      <td>0</td>\n    </tr>\n    <tr>\n      <th>5324</th>\n      <td>1981</td>\n      <td>PhD</td>\n      <td>Married</td>\n      <td>58293.0</td>\n      <td>1</td>\n      <td>0</td>\n      <td>19-01-2014</td>\n      <td>94</td>\n      <td>173</td>\n      <td>43</td>\n      <td>118</td>\n      <td>46</td>\n      <td>27</td>\n      <td>15</td>\n      <td>5</td>\n      <td>5</td>\n      <td>3</td>\n      <td>6</td>\n      <td>5</td>\n      <td>0</td>\n      <td>0</td>\n      <td>0</td>\n      <td>0</td>\n      <td>0</td>\n      <td>0</td>\n      <td>3</td>\n      <td>11</td>\n      <td>0</td>\n    </tr>\n    <tr>\n      <th>7446</th>\n      <td>1967</td>\n      <td>Master</td>\n      <td>Together</td>\n      <td>62513.0</td>\n      <td>0</td>\n      <td>1</td>\n      <td>09-09-2013</td>\n      <td>16</td>\n      <td>520</td>\n      <td>42</td>\n      <td>98</td>\n      <td>0</td>\n      <td>42</td>\n      <td>14</td>\n      <td>2</td>\n      <td>6</td>\n      <td>4</td>\n      <td>10</td>\n      <td>6</td>\n      <td>0</td>\n      <td>0</td>\n      <td>0</td>\n      <td>0</td>\n      <td>0</td>\n      <td>0</td>\n      <td>3</td>\n      <td>11</td>\n      <td>0</td>\n    </tr>\n    <tr>\n      <th>965</th>\n      <td>1971</td>\n      <td>Graduation</td>\n      <td>Divorced</td>\n      <td>55635.0</td>\n      <td>0</td>\n      <td>1</td>\n      <td>13-11-2012</td>\n      <td>34</td>\n      <td>235</td>\n      <td>65</td>\n      <td>164</td>\n      <td>50</td>\n      <td>49</td>\n      <td>27</td>\n      <td>4</td>\n      <td>7</td>\n      <td>3</td>\n      <td>7</td>\n      <td>6</td>\n      <td>0</td>\n      <td>0</td>\n      <td>0</td>\n      <td>0</td>\n      <td>0</td>\n      <td>0</td>\n      <td>3</td>\n      <td>11</td>\n      <td>0</td>\n    </tr>\n    <tr>\n      <th>6177</th>\n      <td>1985</td>\n      <td>PhD</td>\n      <td>Married</td>\n      <td>33454.0</td>\n      <td>1</td>\n      <td>0</td>\n      <td>08-05-2013</td>\n      <td>32</td>\n      <td>76</td>\n      <td>10</td>\n      <td>56</td>\n      <td>3</td>\n      <td>1</td>\n      <td>23</td>\n      <td>2</td>\n      <td>4</td>\n      <td>0</td>\n      <td>4</td>\n      <td>8</td>\n      <td>0</td>\n      <td>0</td>\n      <td>0</td>\n      <td>0</td>\n      <td>0</td>\n      <td>0</td>\n      <td>3</td>\n      <td>11</td>\n      <td>0</td>\n    </tr>\n    <tr>\n      <th>4855</th>\n      <td>1974</td>\n      <td>PhD</td>\n      <td>Together</td>\n      <td>30351.0</td>\n      <td>1</td>\n      <td>0</td>\n      <td>06-06-2013</td>\n      <td>19</td>\n      <td>14</td>\n      <td>0</td>\n      <td>24</td>\n      <td>3</td>\n      <td>3</td>\n      <td>2</td>\n      <td>1</td>\n      <td>3</td>\n      <td>0</td>\n      <td>2</td>\n      <td>9</td>\n      <td>0</td>\n      <td>0</td>\n      <td>0</td>\n      <td>0</td>\n      <td>0</td>\n      <td>0</td>\n      <td>3</td>\n      <td>11</td>\n      <td>1</td>\n    </tr>\n    <tr>\n      <th>5899</th>\n      <td>1950</td>\n      <td>PhD</td>\n      <td>Together</td>\n      <td>5648.0</td>\n      <td>1</td>\n      <td>1</td>\n      <td>13-03-2014</td>\n      <td>68</td>\n      <td>28</td>\n      <td>0</td>\n      <td>6</td>\n      <td>1</td>\n      <td>1</td>\n      <td>13</td>\n      <td>1</td>\n      <td>1</td>\n      <td>0</td>\n      <td>0</td>\n      <td>20</td>\n      <td>1</td>\n      <td>0</td>\n      <td>0</td>\n      <td>0</td>\n      <td>0</td>\n      <td>0</td>\n      <td>3</td>\n      <td>11</td>\n      <td>0</td>\n    </tr>\n  </tbody>\n</table>\n</div>"
     },
     "execution_count": 6,
     "metadata": {},
     "output_type": "execute_result"
    }
   ],
   "source": [
    "customer_data.head(10)"
   ]
  },
  {
   "cell_type": "markdown",
   "id": "5894c7a7-20ea-476c-977b-88cf565fd28a",
   "metadata": {},
   "source": [
    "## Attribute Discription\n",
    "\n",
    "**People**\n",
    "* ID: Customer's unique identifier\n",
    "* Year_Birth: Customer's birth year\n",
    "* Education: Customer's education level\n",
    "* Marital_Status: Customer's marital status\n",
    "* Income: Customer's yearly household income\n",
    "* Kidhome: Number of children in customer's household\n",
    "* Teenhome: Number of teenagers in customer's household\n",
    "* Dt_Customer: Date of customer's enrollment with the company\n",
    "* Recency: Number of days since customer's last purchase\n",
    "* Complain: 1 if customer complained in the last 2 years, 0 otherwise\n",
    "\n",
    "**Products**\n",
    "* MntWines: Amount spent on wine in last 2 years\n",
    "* MntFruits: Amount spent on fruits in last 2 years\n",
    "* MntMeatProducts: Amount spent on meat in last 2 years\n",
    "* MntFishProducts: Amount spent on fish in last 2 years\n",
    "* MntSweetProducts: Amount spent on sweets in last 2 years\n",
    "* MntGoldProds: Amount spent on gold in last 2 years\n",
    "\n",
    "**Promotion**\n",
    "* NumDealsPurchases: Number of purchases made with a discount\n",
    "* AcceptedCmp1: 1 if customer accepted the offer in the 1st campaign, 0 otherwise\n",
    "* AcceptedCmp2: 1 if customer accepted the offer in the 2nd campaign, 0 otherwise\n",
    "* AcceptedCmp3: 1 if customer accepted the offer in the 3rd campaign, 0 otherwise\n",
    "* AcceptedCmp4: 1 if customer accepted the offer in the 4th campaign, 0 otherwise\n",
    "* AcceptedCmp5: 1 if customer accepted the offer in the 5th campaign, 0 otherwise\n",
    "* Response: 1 if customer accepted the offer in the last campaign, 0 otherwise\n",
    "\n",
    "**Place**\n",
    "* NumWebPurchases: Number of purchases made through the company’s web site\n",
    "* NumCatalogPurchases: Number of purchases made using a catalogue\n",
    "* NumStorePurchases: Number of purchases made directly in stores\n",
    "* NumWebVisitsMonth: Number of visits to company’s web site in the last month"
   ]
  },
  {
   "cell_type": "code",
   "execution_count": 7,
   "id": "66f61abd-de4e-4a94-a124-10b4ae7a1f83",
   "metadata": {},
   "outputs": [
    {
     "data": {
      "text/plain": "        Year_Birth         Income      Kidhome     Teenhome      Recency  \\\ncount  2240.000000    2216.000000  2240.000000  2240.000000  2240.000000   \nmean   1968.805804   52247.251354     0.444196     0.506250    49.109375   \nstd      11.984069   25173.076661     0.538398     0.544538    28.962453   \nmin    1893.000000    1730.000000     0.000000     0.000000     0.000000   \n25%    1959.000000   35303.000000     0.000000     0.000000    24.000000   \n50%    1970.000000   51381.500000     0.000000     0.000000    49.000000   \n75%    1977.000000   68522.000000     1.000000     1.000000    74.000000   \nmax    1996.000000  666666.000000     2.000000     2.000000    99.000000   \n\n          MntWines    MntFruits  MntMeatProducts  MntFishProducts  \\\ncount  2240.000000  2240.000000      2240.000000      2240.000000   \nmean    303.935714    26.302232       166.950000        37.525446   \nstd     336.597393    39.773434       225.715373        54.628979   \nmin       0.000000     0.000000         0.000000         0.000000   \n25%      23.750000     1.000000        16.000000         3.000000   \n50%     173.500000     8.000000        67.000000        12.000000   \n75%     504.250000    33.000000       232.000000        50.000000   \nmax    1493.000000   199.000000      1725.000000       259.000000   \n\n       MntSweetProducts  MntGoldProds  NumDealsPurchases  NumWebPurchases  \\\ncount       2240.000000   2240.000000        2240.000000      2240.000000   \nmean          27.062946     44.021875           2.325000         4.084821   \nstd           41.280498     52.167439           1.932238         2.778714   \nmin            0.000000      0.000000           0.000000         0.000000   \n25%            1.000000      9.000000           1.000000         2.000000   \n50%            8.000000     24.000000           2.000000         4.000000   \n75%           33.000000     56.000000           3.000000         6.000000   \nmax          263.000000    362.000000          15.000000        27.000000   \n\n       NumCatalogPurchases  NumStorePurchases  NumWebVisitsMonth  \\\ncount          2240.000000        2240.000000        2240.000000   \nmean              2.662054           5.790179           5.316518   \nstd               2.923101           3.250958           2.426645   \nmin               0.000000           0.000000           0.000000   \n25%               0.000000           3.000000           3.000000   \n50%               2.000000           5.000000           6.000000   \n75%               4.000000           8.000000           7.000000   \nmax              28.000000          13.000000          20.000000   \n\n       AcceptedCmp3  AcceptedCmp4  AcceptedCmp5  AcceptedCmp1  AcceptedCmp2  \\\ncount   2240.000000   2240.000000   2240.000000   2240.000000   2240.000000   \nmean       0.072768      0.074554      0.072768      0.064286      0.013393   \nstd        0.259813      0.262728      0.259813      0.245316      0.114976   \nmin        0.000000      0.000000      0.000000      0.000000      0.000000   \n25%        0.000000      0.000000      0.000000      0.000000      0.000000   \n50%        0.000000      0.000000      0.000000      0.000000      0.000000   \n75%        0.000000      0.000000      0.000000      0.000000      0.000000   \nmax        1.000000      1.000000      1.000000      1.000000      1.000000   \n\n          Complain  Z_CostContact  Z_Revenue     Response  \ncount  2240.000000         2240.0     2240.0  2240.000000  \nmean      0.009375            3.0       11.0     0.149107  \nstd       0.096391            0.0        0.0     0.356274  \nmin       0.000000            3.0       11.0     0.000000  \n25%       0.000000            3.0       11.0     0.000000  \n50%       0.000000            3.0       11.0     0.000000  \n75%       0.000000            3.0       11.0     0.000000  \nmax       1.000000            3.0       11.0     1.000000  ",
      "text/html": "<div>\n<style scoped>\n    .dataframe tbody tr th:only-of-type {\n        vertical-align: middle;\n    }\n\n    .dataframe tbody tr th {\n        vertical-align: top;\n    }\n\n    .dataframe thead th {\n        text-align: right;\n    }\n</style>\n<table border=\"1\" class=\"dataframe\">\n  <thead>\n    <tr style=\"text-align: right;\">\n      <th></th>\n      <th>Year_Birth</th>\n      <th>Income</th>\n      <th>Kidhome</th>\n      <th>Teenhome</th>\n      <th>Recency</th>\n      <th>MntWines</th>\n      <th>MntFruits</th>\n      <th>MntMeatProducts</th>\n      <th>MntFishProducts</th>\n      <th>MntSweetProducts</th>\n      <th>MntGoldProds</th>\n      <th>NumDealsPurchases</th>\n      <th>NumWebPurchases</th>\n      <th>NumCatalogPurchases</th>\n      <th>NumStorePurchases</th>\n      <th>NumWebVisitsMonth</th>\n      <th>AcceptedCmp3</th>\n      <th>AcceptedCmp4</th>\n      <th>AcceptedCmp5</th>\n      <th>AcceptedCmp1</th>\n      <th>AcceptedCmp2</th>\n      <th>Complain</th>\n      <th>Z_CostContact</th>\n      <th>Z_Revenue</th>\n      <th>Response</th>\n    </tr>\n  </thead>\n  <tbody>\n    <tr>\n      <th>count</th>\n      <td>2240.000000</td>\n      <td>2216.000000</td>\n      <td>2240.000000</td>\n      <td>2240.000000</td>\n      <td>2240.000000</td>\n      <td>2240.000000</td>\n      <td>2240.000000</td>\n      <td>2240.000000</td>\n      <td>2240.000000</td>\n      <td>2240.000000</td>\n      <td>2240.000000</td>\n      <td>2240.000000</td>\n      <td>2240.000000</td>\n      <td>2240.000000</td>\n      <td>2240.000000</td>\n      <td>2240.000000</td>\n      <td>2240.000000</td>\n      <td>2240.000000</td>\n      <td>2240.000000</td>\n      <td>2240.000000</td>\n      <td>2240.000000</td>\n      <td>2240.000000</td>\n      <td>2240.0</td>\n      <td>2240.0</td>\n      <td>2240.000000</td>\n    </tr>\n    <tr>\n      <th>mean</th>\n      <td>1968.805804</td>\n      <td>52247.251354</td>\n      <td>0.444196</td>\n      <td>0.506250</td>\n      <td>49.109375</td>\n      <td>303.935714</td>\n      <td>26.302232</td>\n      <td>166.950000</td>\n      <td>37.525446</td>\n      <td>27.062946</td>\n      <td>44.021875</td>\n      <td>2.325000</td>\n      <td>4.084821</td>\n      <td>2.662054</td>\n      <td>5.790179</td>\n      <td>5.316518</td>\n      <td>0.072768</td>\n      <td>0.074554</td>\n      <td>0.072768</td>\n      <td>0.064286</td>\n      <td>0.013393</td>\n      <td>0.009375</td>\n      <td>3.0</td>\n      <td>11.0</td>\n      <td>0.149107</td>\n    </tr>\n    <tr>\n      <th>std</th>\n      <td>11.984069</td>\n      <td>25173.076661</td>\n      <td>0.538398</td>\n      <td>0.544538</td>\n      <td>28.962453</td>\n      <td>336.597393</td>\n      <td>39.773434</td>\n      <td>225.715373</td>\n      <td>54.628979</td>\n      <td>41.280498</td>\n      <td>52.167439</td>\n      <td>1.932238</td>\n      <td>2.778714</td>\n      <td>2.923101</td>\n      <td>3.250958</td>\n      <td>2.426645</td>\n      <td>0.259813</td>\n      <td>0.262728</td>\n      <td>0.259813</td>\n      <td>0.245316</td>\n      <td>0.114976</td>\n      <td>0.096391</td>\n      <td>0.0</td>\n      <td>0.0</td>\n      <td>0.356274</td>\n    </tr>\n    <tr>\n      <th>min</th>\n      <td>1893.000000</td>\n      <td>1730.000000</td>\n      <td>0.000000</td>\n      <td>0.000000</td>\n      <td>0.000000</td>\n      <td>0.000000</td>\n      <td>0.000000</td>\n      <td>0.000000</td>\n      <td>0.000000</td>\n      <td>0.000000</td>\n      <td>0.000000</td>\n      <td>0.000000</td>\n      <td>0.000000</td>\n      <td>0.000000</td>\n      <td>0.000000</td>\n      <td>0.000000</td>\n      <td>0.000000</td>\n      <td>0.000000</td>\n      <td>0.000000</td>\n      <td>0.000000</td>\n      <td>0.000000</td>\n      <td>0.000000</td>\n      <td>3.0</td>\n      <td>11.0</td>\n      <td>0.000000</td>\n    </tr>\n    <tr>\n      <th>25%</th>\n      <td>1959.000000</td>\n      <td>35303.000000</td>\n      <td>0.000000</td>\n      <td>0.000000</td>\n      <td>24.000000</td>\n      <td>23.750000</td>\n      <td>1.000000</td>\n      <td>16.000000</td>\n      <td>3.000000</td>\n      <td>1.000000</td>\n      <td>9.000000</td>\n      <td>1.000000</td>\n      <td>2.000000</td>\n      <td>0.000000</td>\n      <td>3.000000</td>\n      <td>3.000000</td>\n      <td>0.000000</td>\n      <td>0.000000</td>\n      <td>0.000000</td>\n      <td>0.000000</td>\n      <td>0.000000</td>\n      <td>0.000000</td>\n      <td>3.0</td>\n      <td>11.0</td>\n      <td>0.000000</td>\n    </tr>\n    <tr>\n      <th>50%</th>\n      <td>1970.000000</td>\n      <td>51381.500000</td>\n      <td>0.000000</td>\n      <td>0.000000</td>\n      <td>49.000000</td>\n      <td>173.500000</td>\n      <td>8.000000</td>\n      <td>67.000000</td>\n      <td>12.000000</td>\n      <td>8.000000</td>\n      <td>24.000000</td>\n      <td>2.000000</td>\n      <td>4.000000</td>\n      <td>2.000000</td>\n      <td>5.000000</td>\n      <td>6.000000</td>\n      <td>0.000000</td>\n      <td>0.000000</td>\n      <td>0.000000</td>\n      <td>0.000000</td>\n      <td>0.000000</td>\n      <td>0.000000</td>\n      <td>3.0</td>\n      <td>11.0</td>\n      <td>0.000000</td>\n    </tr>\n    <tr>\n      <th>75%</th>\n      <td>1977.000000</td>\n      <td>68522.000000</td>\n      <td>1.000000</td>\n      <td>1.000000</td>\n      <td>74.000000</td>\n      <td>504.250000</td>\n      <td>33.000000</td>\n      <td>232.000000</td>\n      <td>50.000000</td>\n      <td>33.000000</td>\n      <td>56.000000</td>\n      <td>3.000000</td>\n      <td>6.000000</td>\n      <td>4.000000</td>\n      <td>8.000000</td>\n      <td>7.000000</td>\n      <td>0.000000</td>\n      <td>0.000000</td>\n      <td>0.000000</td>\n      <td>0.000000</td>\n      <td>0.000000</td>\n      <td>0.000000</td>\n      <td>3.0</td>\n      <td>11.0</td>\n      <td>0.000000</td>\n    </tr>\n    <tr>\n      <th>max</th>\n      <td>1996.000000</td>\n      <td>666666.000000</td>\n      <td>2.000000</td>\n      <td>2.000000</td>\n      <td>99.000000</td>\n      <td>1493.000000</td>\n      <td>199.000000</td>\n      <td>1725.000000</td>\n      <td>259.000000</td>\n      <td>263.000000</td>\n      <td>362.000000</td>\n      <td>15.000000</td>\n      <td>27.000000</td>\n      <td>28.000000</td>\n      <td>13.000000</td>\n      <td>20.000000</td>\n      <td>1.000000</td>\n      <td>1.000000</td>\n      <td>1.000000</td>\n      <td>1.000000</td>\n      <td>1.000000</td>\n      <td>1.000000</td>\n      <td>3.0</td>\n      <td>11.0</td>\n      <td>1.000000</td>\n    </tr>\n  </tbody>\n</table>\n</div>"
     },
     "execution_count": 7,
     "metadata": {},
     "output_type": "execute_result"
    }
   ],
   "source": [
    "customer_data.describe()"
   ]
  },
  {
   "cell_type": "markdown",
   "id": "2c7c802e-bb51-4f23-886c-08bfdfbdc169",
   "metadata": {},
   "source": [
    "> Columns Z_CostContact and Z_Revenue have constant value so we can remove them"
   ]
  },
  {
   "cell_type": "code",
   "execution_count": 8,
   "id": "327c319b-9194-442b-92c3-aa0a98f028b0",
   "metadata": {},
   "outputs": [
    {
     "data": {
      "text/plain": "Year_Birth               int64\nEducation               object\nMarital_Status          object\nIncome                 float64\nKidhome                  int64\nTeenhome                 int64\nDt_Customer             object\nRecency                  int64\nMntWines                 int64\nMntFruits                int64\nMntMeatProducts          int64\nMntFishProducts          int64\nMntSweetProducts         int64\nMntGoldProds             int64\nNumDealsPurchases        int64\nNumWebPurchases          int64\nNumCatalogPurchases      int64\nNumStorePurchases        int64\nNumWebVisitsMonth        int64\nAcceptedCmp3             int64\nAcceptedCmp4             int64\nAcceptedCmp5             int64\nAcceptedCmp1             int64\nAcceptedCmp2             int64\nComplain                 int64\nZ_CostContact            int64\nZ_Revenue                int64\nResponse                 int64\ndtype: object"
     },
     "execution_count": 8,
     "metadata": {},
     "output_type": "execute_result"
    }
   ],
   "source": [
    "customer_data.dtypes"
   ]
  },
  {
   "cell_type": "code",
   "execution_count": 9,
   "id": "2e529070-9f1a-409e-9889-05651b1858a4",
   "metadata": {},
   "outputs": [
    {
     "name": "stdout",
     "output_type": "stream",
     "text": [
      "Are there any null values?\n",
      "Year_Birth             False\n",
      "Education              False\n",
      "Marital_Status         False\n",
      "Income                  True\n",
      "Kidhome                False\n",
      "Teenhome               False\n",
      "Dt_Customer            False\n",
      "Recency                False\n",
      "MntWines               False\n",
      "MntFruits              False\n",
      "MntMeatProducts        False\n",
      "MntFishProducts        False\n",
      "MntSweetProducts       False\n",
      "MntGoldProds           False\n",
      "NumDealsPurchases      False\n",
      "NumWebPurchases        False\n",
      "NumCatalogPurchases    False\n",
      "NumStorePurchases      False\n",
      "NumWebVisitsMonth      False\n",
      "AcceptedCmp3           False\n",
      "AcceptedCmp4           False\n",
      "AcceptedCmp5           False\n",
      "AcceptedCmp1           False\n",
      "AcceptedCmp2           False\n",
      "Complain               False\n",
      "Z_CostContact          False\n",
      "Z_Revenue              False\n",
      "Response               False\n",
      "dtype: bool\n",
      "\n",
      "Total number of null values\n",
      "Year_Birth              0\n",
      "Education               0\n",
      "Marital_Status          0\n",
      "Income                 24\n",
      "Kidhome                 0\n",
      "Teenhome                0\n",
      "Dt_Customer             0\n",
      "Recency                 0\n",
      "MntWines                0\n",
      "MntFruits               0\n",
      "MntMeatProducts         0\n",
      "MntFishProducts         0\n",
      "MntSweetProducts        0\n",
      "MntGoldProds            0\n",
      "NumDealsPurchases       0\n",
      "NumWebPurchases         0\n",
      "NumCatalogPurchases     0\n",
      "NumStorePurchases       0\n",
      "NumWebVisitsMonth       0\n",
      "AcceptedCmp3            0\n",
      "AcceptedCmp4            0\n",
      "AcceptedCmp5            0\n",
      "AcceptedCmp1            0\n",
      "AcceptedCmp2            0\n",
      "Complain                0\n",
      "Z_CostContact           0\n",
      "Z_Revenue               0\n",
      "Response                0\n",
      "dtype: int64\n"
     ]
    }
   ],
   "source": [
    "print(\"Are there any null values?\")\n",
    "print(customer_data.isnull().any())\n",
    "print(\"\\nTotal number of null values\")\n",
    "print(customer_data.isnull().sum())"
   ]
  },
  {
   "cell_type": "markdown",
   "id": "49b164af-6429-4911-9c3f-6302bae9a607",
   "metadata": {},
   "source": [
    "> There are 24 null values in Income Column, we will deal with null values as we go down the notebook"
   ]
  },
  {
   "cell_type": "markdown",
   "id": "7aaa8a32-2ea8-49cf-b75f-46087b4dd3cc",
   "metadata": {},
   "source": [
    "# Feature Engineering"
   ]
  },
  {
   "cell_type": "markdown",
   "id": "79938098-e048-47bb-ac2e-088da8940b97",
   "metadata": {},
   "source": [
    "## Attribute Engineering"
   ]
  },
  {
   "cell_type": "code",
   "execution_count": 10,
   "id": "8e55e74b-1991-450f-a4f4-c5c9c901f506",
   "metadata": {},
   "outputs": [],
   "source": [
    "#Change Education to categorical\n",
    "customer_data['Education'] = pd.Categorical(customer_data.Education)\n",
    "\n",
    "#Calculate age of customer from birth year\n",
    "customer_data['Age'] = customer_data.Year_Birth.apply(lambda x: 2022 - int(x))\n",
    "\n",
    "#Calculate number of days since joining\n",
    "customer_data['Dt_Customer'] = pd.to_datetime(customer_data.Dt_Customer)\n",
    "customer_data['Days_Since_Customer'] = customer_data.Dt_Customer.apply(lambda x: (now - x).total_seconds()/ (60 * 60 * 24))\n",
    "\n",
    "#Creating a attribute as family size\n",
    "marital_map = {'Absurd': 1, 'Alone': 1, 'YOLO': 1, 'Single': 1, 'Married': 2, 'Together': 2, 'Widow': 1, 'Divorced': 1}\n",
    "customer_data['Marital_Status_Ct'] = customer_data.Marital_Status.map(marital_map)\n",
    "\n",
    "#Calculate total number of kids\n",
    "customer_data['Num_Kids'] = customer_data.Kidhome.values + customer_data.Teenhome.values\n",
    "\n",
    "#Calulate Family size from marital status and kids\n",
    "customer_data['Family_Size'] = customer_data.Marital_Status_Ct.values + customer_data.Num_Kids.values\n",
    "\n",
    "#Total number of campaign accepted\n",
    "customer_data['Tot_Cmp_Accepted'] = customer_data.AcceptedCmp1.values + customer_data.AcceptedCmp2.values + customer_data.AcceptedCmp3.values + customer_data.AcceptedCmp4.values + customer_data.AcceptedCmp5.values\n",
    "\n",
    "#Total number of minimum items purchased in total\n",
    "customer_data['Itm_Total'] = customer_data['MntWines'].values + customer_data['MntFruits'].values + customer_data['MntMeatProducts'].values + customer_data['MntFishProducts'].values + customer_data['MntWines'].values + customer_data['MntSweetProducts'].values + customer_data['MntGoldProds'].values"
   ]
  },
  {
   "cell_type": "code",
   "execution_count": 11,
   "id": "d08c4a1f-f3b8-45fc-bc3c-a3be5f221f58",
   "metadata": {},
   "outputs": [
    {
     "data": {
      "text/plain": "      Year_Birth   Education Marital_Status   Income  Kidhome  Teenhome  \\\nID                                                                        \n5524        1957  Graduation         Single  58138.0        0         0   \n2174        1954  Graduation         Single  46344.0        1         1   \n4141        1965  Graduation       Together  71613.0        0         0   \n6182        1984  Graduation       Together  26646.0        1         0   \n5324        1981         PhD        Married  58293.0        1         0   \n7446        1967      Master       Together  62513.0        0         1   \n965         1971  Graduation       Divorced  55635.0        0         1   \n6177        1985         PhD        Married  33454.0        1         0   \n4855        1974         PhD       Together  30351.0        1         0   \n5899        1950         PhD       Together   5648.0        1         1   \n\n     Dt_Customer  Recency  MntWines  MntFruits  MntMeatProducts  \\\nID                                                                \n5524  2012-04-09       58       635         88              546   \n2174  2014-08-03       38        11          1                6   \n4141  2013-08-21       26       426         49              127   \n6182  2014-10-02       26        11          4               20   \n5324  2014-01-19       94       173         43              118   \n7446  2013-09-09       16       520         42               98   \n965   2012-11-13       34       235         65              164   \n6177  2013-08-05       32        76         10               56   \n4855  2013-06-06       19        14          0               24   \n5899  2014-03-13       68        28          0                6   \n\n      MntFishProducts  MntSweetProducts  MntGoldProds  NumDealsPurchases  \\\nID                                                                         \n5524              172                88            88                  3   \n2174                2                 1             6                  2   \n4141              111                21            42                  1   \n6182               10                 3             5                  2   \n5324               46                27            15                  5   \n7446                0                42            14                  2   \n965                50                49            27                  4   \n6177                3                 1            23                  2   \n4855                3                 3             2                  1   \n5899                1                 1            13                  1   \n\n      NumWebPurchases  NumCatalogPurchases  NumStorePurchases  \\\nID                                                              \n5524                8                   10                  4   \n2174                1                    1                  2   \n4141                8                    2                 10   \n6182                2                    0                  4   \n5324                5                    3                  6   \n7446                6                    4                 10   \n965                 7                    3                  7   \n6177                4                    0                  4   \n4855                3                    0                  2   \n5899                1                    0                  0   \n\n      NumWebVisitsMonth  AcceptedCmp3  AcceptedCmp4  AcceptedCmp5  \\\nID                                                                  \n5524                  7             0             0             0   \n2174                  5             0             0             0   \n4141                  4             0             0             0   \n6182                  6             0             0             0   \n5324                  5             0             0             0   \n7446                  6             0             0             0   \n965                   6             0             0             0   \n6177                  8             0             0             0   \n4855                  9             0             0             0   \n5899                 20             1             0             0   \n\n      AcceptedCmp1  AcceptedCmp2  Complain  Z_CostContact  Z_Revenue  \\\nID                                                                     \n5524             0             0         0              3         11   \n2174             0             0         0              3         11   \n4141             0             0         0              3         11   \n6182             0             0         0              3         11   \n5324             0             0         0              3         11   \n7446             0             0         0              3         11   \n965              0             0         0              3         11   \n6177             0             0         0              3         11   \n4855             0             0         0              3         11   \n5899             0             0         0              3         11   \n\n      Response  Age  Days_Since_Customer  Marital_Status_Ct  Num_Kids  \\\nID                                                                      \n5524         1   65          3863.624032                  1         0   \n2174         0   68          3017.624032                  1         2   \n4141         0   57          3364.624032                  2         0   \n6182         0   38          2957.624032                  2         1   \n5324         0   41          3213.624032                  2         1   \n7446         0   55          3345.624032                  2         1   \n965          0   51          3645.624032                  1         1   \n6177         0   37          3380.624032                  2         1   \n4855         1   48          3440.624032                  2         1   \n5899         0   72          3160.624032                  2         2   \n\n      Family_Size  Tot_Cmp_Accepted  Itm_Total  \nID                                              \n5524            1                 0       2252  \n2174            3                 0         38  \n4141            2                 0       1202  \n6182            3                 0         64  \n5324            3                 0        595  \n7446            3                 0       1236  \n965             2                 0        825  \n6177            3                 0        245  \n4855            3                 0         60  \n5899            4                 1         77  ",
      "text/html": "<div>\n<style scoped>\n    .dataframe tbody tr th:only-of-type {\n        vertical-align: middle;\n    }\n\n    .dataframe tbody tr th {\n        vertical-align: top;\n    }\n\n    .dataframe thead th {\n        text-align: right;\n    }\n</style>\n<table border=\"1\" class=\"dataframe\">\n  <thead>\n    <tr style=\"text-align: right;\">\n      <th></th>\n      <th>Year_Birth</th>\n      <th>Education</th>\n      <th>Marital_Status</th>\n      <th>Income</th>\n      <th>Kidhome</th>\n      <th>Teenhome</th>\n      <th>Dt_Customer</th>\n      <th>Recency</th>\n      <th>MntWines</th>\n      <th>MntFruits</th>\n      <th>MntMeatProducts</th>\n      <th>MntFishProducts</th>\n      <th>MntSweetProducts</th>\n      <th>MntGoldProds</th>\n      <th>NumDealsPurchases</th>\n      <th>NumWebPurchases</th>\n      <th>NumCatalogPurchases</th>\n      <th>NumStorePurchases</th>\n      <th>NumWebVisitsMonth</th>\n      <th>AcceptedCmp3</th>\n      <th>AcceptedCmp4</th>\n      <th>AcceptedCmp5</th>\n      <th>AcceptedCmp1</th>\n      <th>AcceptedCmp2</th>\n      <th>Complain</th>\n      <th>Z_CostContact</th>\n      <th>Z_Revenue</th>\n      <th>Response</th>\n      <th>Age</th>\n      <th>Days_Since_Customer</th>\n      <th>Marital_Status_Ct</th>\n      <th>Num_Kids</th>\n      <th>Family_Size</th>\n      <th>Tot_Cmp_Accepted</th>\n      <th>Itm_Total</th>\n    </tr>\n    <tr>\n      <th>ID</th>\n      <th></th>\n      <th></th>\n      <th></th>\n      <th></th>\n      <th></th>\n      <th></th>\n      <th></th>\n      <th></th>\n      <th></th>\n      <th></th>\n      <th></th>\n      <th></th>\n      <th></th>\n      <th></th>\n      <th></th>\n      <th></th>\n      <th></th>\n      <th></th>\n      <th></th>\n      <th></th>\n      <th></th>\n      <th></th>\n      <th></th>\n      <th></th>\n      <th></th>\n      <th></th>\n      <th></th>\n      <th></th>\n      <th></th>\n      <th></th>\n      <th></th>\n      <th></th>\n      <th></th>\n      <th></th>\n      <th></th>\n    </tr>\n  </thead>\n  <tbody>\n    <tr>\n      <th>5524</th>\n      <td>1957</td>\n      <td>Graduation</td>\n      <td>Single</td>\n      <td>58138.0</td>\n      <td>0</td>\n      <td>0</td>\n      <td>2012-04-09</td>\n      <td>58</td>\n      <td>635</td>\n      <td>88</td>\n      <td>546</td>\n      <td>172</td>\n      <td>88</td>\n      <td>88</td>\n      <td>3</td>\n      <td>8</td>\n      <td>10</td>\n      <td>4</td>\n      <td>7</td>\n      <td>0</td>\n      <td>0</td>\n      <td>0</td>\n      <td>0</td>\n      <td>0</td>\n      <td>0</td>\n      <td>3</td>\n      <td>11</td>\n      <td>1</td>\n      <td>65</td>\n      <td>3863.624032</td>\n      <td>1</td>\n      <td>0</td>\n      <td>1</td>\n      <td>0</td>\n      <td>2252</td>\n    </tr>\n    <tr>\n      <th>2174</th>\n      <td>1954</td>\n      <td>Graduation</td>\n      <td>Single</td>\n      <td>46344.0</td>\n      <td>1</td>\n      <td>1</td>\n      <td>2014-08-03</td>\n      <td>38</td>\n      <td>11</td>\n      <td>1</td>\n      <td>6</td>\n      <td>2</td>\n      <td>1</td>\n      <td>6</td>\n      <td>2</td>\n      <td>1</td>\n      <td>1</td>\n      <td>2</td>\n      <td>5</td>\n      <td>0</td>\n      <td>0</td>\n      <td>0</td>\n      <td>0</td>\n      <td>0</td>\n      <td>0</td>\n      <td>3</td>\n      <td>11</td>\n      <td>0</td>\n      <td>68</td>\n      <td>3017.624032</td>\n      <td>1</td>\n      <td>2</td>\n      <td>3</td>\n      <td>0</td>\n      <td>38</td>\n    </tr>\n    <tr>\n      <th>4141</th>\n      <td>1965</td>\n      <td>Graduation</td>\n      <td>Together</td>\n      <td>71613.0</td>\n      <td>0</td>\n      <td>0</td>\n      <td>2013-08-21</td>\n      <td>26</td>\n      <td>426</td>\n      <td>49</td>\n      <td>127</td>\n      <td>111</td>\n      <td>21</td>\n      <td>42</td>\n      <td>1</td>\n      <td>8</td>\n      <td>2</td>\n      <td>10</td>\n      <td>4</td>\n      <td>0</td>\n      <td>0</td>\n      <td>0</td>\n      <td>0</td>\n      <td>0</td>\n      <td>0</td>\n      <td>3</td>\n      <td>11</td>\n      <td>0</td>\n      <td>57</td>\n      <td>3364.624032</td>\n      <td>2</td>\n      <td>0</td>\n      <td>2</td>\n      <td>0</td>\n      <td>1202</td>\n    </tr>\n    <tr>\n      <th>6182</th>\n      <td>1984</td>\n      <td>Graduation</td>\n      <td>Together</td>\n      <td>26646.0</td>\n      <td>1</td>\n      <td>0</td>\n      <td>2014-10-02</td>\n      <td>26</td>\n      <td>11</td>\n      <td>4</td>\n      <td>20</td>\n      <td>10</td>\n      <td>3</td>\n      <td>5</td>\n      <td>2</td>\n      <td>2</td>\n      <td>0</td>\n      <td>4</td>\n      <td>6</td>\n      <td>0</td>\n      <td>0</td>\n      <td>0</td>\n      <td>0</td>\n      <td>0</td>\n      <td>0</td>\n      <td>3</td>\n      <td>11</td>\n      <td>0</td>\n      <td>38</td>\n      <td>2957.624032</td>\n      <td>2</td>\n      <td>1</td>\n      <td>3</td>\n      <td>0</td>\n      <td>64</td>\n    </tr>\n    <tr>\n      <th>5324</th>\n      <td>1981</td>\n      <td>PhD</td>\n      <td>Married</td>\n      <td>58293.0</td>\n      <td>1</td>\n      <td>0</td>\n      <td>2014-01-19</td>\n      <td>94</td>\n      <td>173</td>\n      <td>43</td>\n      <td>118</td>\n      <td>46</td>\n      <td>27</td>\n      <td>15</td>\n      <td>5</td>\n      <td>5</td>\n      <td>3</td>\n      <td>6</td>\n      <td>5</td>\n      <td>0</td>\n      <td>0</td>\n      <td>0</td>\n      <td>0</td>\n      <td>0</td>\n      <td>0</td>\n      <td>3</td>\n      <td>11</td>\n      <td>0</td>\n      <td>41</td>\n      <td>3213.624032</td>\n      <td>2</td>\n      <td>1</td>\n      <td>3</td>\n      <td>0</td>\n      <td>595</td>\n    </tr>\n    <tr>\n      <th>7446</th>\n      <td>1967</td>\n      <td>Master</td>\n      <td>Together</td>\n      <td>62513.0</td>\n      <td>0</td>\n      <td>1</td>\n      <td>2013-09-09</td>\n      <td>16</td>\n      <td>520</td>\n      <td>42</td>\n      <td>98</td>\n      <td>0</td>\n      <td>42</td>\n      <td>14</td>\n      <td>2</td>\n      <td>6</td>\n      <td>4</td>\n      <td>10</td>\n      <td>6</td>\n      <td>0</td>\n      <td>0</td>\n      <td>0</td>\n      <td>0</td>\n      <td>0</td>\n      <td>0</td>\n      <td>3</td>\n      <td>11</td>\n      <td>0</td>\n      <td>55</td>\n      <td>3345.624032</td>\n      <td>2</td>\n      <td>1</td>\n      <td>3</td>\n      <td>0</td>\n      <td>1236</td>\n    </tr>\n    <tr>\n      <th>965</th>\n      <td>1971</td>\n      <td>Graduation</td>\n      <td>Divorced</td>\n      <td>55635.0</td>\n      <td>0</td>\n      <td>1</td>\n      <td>2012-11-13</td>\n      <td>34</td>\n      <td>235</td>\n      <td>65</td>\n      <td>164</td>\n      <td>50</td>\n      <td>49</td>\n      <td>27</td>\n      <td>4</td>\n      <td>7</td>\n      <td>3</td>\n      <td>7</td>\n      <td>6</td>\n      <td>0</td>\n      <td>0</td>\n      <td>0</td>\n      <td>0</td>\n      <td>0</td>\n      <td>0</td>\n      <td>3</td>\n      <td>11</td>\n      <td>0</td>\n      <td>51</td>\n      <td>3645.624032</td>\n      <td>1</td>\n      <td>1</td>\n      <td>2</td>\n      <td>0</td>\n      <td>825</td>\n    </tr>\n    <tr>\n      <th>6177</th>\n      <td>1985</td>\n      <td>PhD</td>\n      <td>Married</td>\n      <td>33454.0</td>\n      <td>1</td>\n      <td>0</td>\n      <td>2013-08-05</td>\n      <td>32</td>\n      <td>76</td>\n      <td>10</td>\n      <td>56</td>\n      <td>3</td>\n      <td>1</td>\n      <td>23</td>\n      <td>2</td>\n      <td>4</td>\n      <td>0</td>\n      <td>4</td>\n      <td>8</td>\n      <td>0</td>\n      <td>0</td>\n      <td>0</td>\n      <td>0</td>\n      <td>0</td>\n      <td>0</td>\n      <td>3</td>\n      <td>11</td>\n      <td>0</td>\n      <td>37</td>\n      <td>3380.624032</td>\n      <td>2</td>\n      <td>1</td>\n      <td>3</td>\n      <td>0</td>\n      <td>245</td>\n    </tr>\n    <tr>\n      <th>4855</th>\n      <td>1974</td>\n      <td>PhD</td>\n      <td>Together</td>\n      <td>30351.0</td>\n      <td>1</td>\n      <td>0</td>\n      <td>2013-06-06</td>\n      <td>19</td>\n      <td>14</td>\n      <td>0</td>\n      <td>24</td>\n      <td>3</td>\n      <td>3</td>\n      <td>2</td>\n      <td>1</td>\n      <td>3</td>\n      <td>0</td>\n      <td>2</td>\n      <td>9</td>\n      <td>0</td>\n      <td>0</td>\n      <td>0</td>\n      <td>0</td>\n      <td>0</td>\n      <td>0</td>\n      <td>3</td>\n      <td>11</td>\n      <td>1</td>\n      <td>48</td>\n      <td>3440.624032</td>\n      <td>2</td>\n      <td>1</td>\n      <td>3</td>\n      <td>0</td>\n      <td>60</td>\n    </tr>\n    <tr>\n      <th>5899</th>\n      <td>1950</td>\n      <td>PhD</td>\n      <td>Together</td>\n      <td>5648.0</td>\n      <td>1</td>\n      <td>1</td>\n      <td>2014-03-13</td>\n      <td>68</td>\n      <td>28</td>\n      <td>0</td>\n      <td>6</td>\n      <td>1</td>\n      <td>1</td>\n      <td>13</td>\n      <td>1</td>\n      <td>1</td>\n      <td>0</td>\n      <td>0</td>\n      <td>20</td>\n      <td>1</td>\n      <td>0</td>\n      <td>0</td>\n      <td>0</td>\n      <td>0</td>\n      <td>0</td>\n      <td>3</td>\n      <td>11</td>\n      <td>0</td>\n      <td>72</td>\n      <td>3160.624032</td>\n      <td>2</td>\n      <td>2</td>\n      <td>4</td>\n      <td>1</td>\n      <td>77</td>\n    </tr>\n  </tbody>\n</table>\n</div>"
     },
     "execution_count": 11,
     "metadata": {},
     "output_type": "execute_result"
    }
   ],
   "source": [
    "customer_data.head(10)"
   ]
  },
  {
   "cell_type": "code",
   "execution_count": 12,
   "id": "cdb9b016-22ed-4897-84f4-9a6c599a0926",
   "metadata": {},
   "outputs": [
    {
     "data": {
      "text/plain": "(2240, 35)"
     },
     "execution_count": 12,
     "metadata": {},
     "output_type": "execute_result"
    }
   ],
   "source": [
    "customer_data.shape"
   ]
  },
  {
   "cell_type": "markdown",
   "id": "e9316d9b-5021-446a-b78b-3dc331035d61",
   "metadata": {},
   "source": [
    "## Removing useless columns \n",
    "We will going forward use the dataframe: **customer_data_eng**"
   ]
  },
  {
   "cell_type": "code",
   "execution_count": 13,
   "id": "4a51b496-1d4f-47c3-9a72-1b52cd51d46f",
   "metadata": {},
   "outputs": [],
   "source": [
    "customer_data_eng = customer_data.drop(['Dt_Customer', 'Year_Birth', 'AcceptedCmp1', 'AcceptedCmp2','AcceptedCmp3', 'AcceptedCmp4', 'AcceptedCmp5', 'Z_CostContact', 'Z_Revenue', 'Num_Kids', 'Marital_Status'], axis=1, inplace=False)"
   ]
  },
  {
   "cell_type": "code",
   "execution_count": 14,
   "id": "2ddf94b1-d22d-4925-960b-7d0f14c9f1c0",
   "metadata": {},
   "outputs": [
    {
     "data": {
      "text/plain": "       Education   Income  Kidhome  Teenhome  Recency  MntWines  MntFruits  \\\nID                                                                           \n5524  Graduation  58138.0        0         0       58       635         88   \n2174  Graduation  46344.0        1         1       38        11          1   \n4141  Graduation  71613.0        0         0       26       426         49   \n6182  Graduation  26646.0        1         0       26        11          4   \n5324         PhD  58293.0        1         0       94       173         43   \n\n      MntMeatProducts  MntFishProducts  MntSweetProducts  MntGoldProds  \\\nID                                                                       \n5524              546              172                88            88   \n2174                6                2                 1             6   \n4141              127              111                21            42   \n6182               20               10                 3             5   \n5324              118               46                27            15   \n\n      NumDealsPurchases  NumWebPurchases  NumCatalogPurchases  \\\nID                                                              \n5524                  3                8                   10   \n2174                  2                1                    1   \n4141                  1                8                    2   \n6182                  2                2                    0   \n5324                  5                5                    3   \n\n      NumStorePurchases  NumWebVisitsMonth  Complain  Response  Age  \\\nID                                                                    \n5524                  4                  7         0         1   65   \n2174                  2                  5         0         0   68   \n4141                 10                  4         0         0   57   \n6182                  4                  6         0         0   38   \n5324                  6                  5         0         0   41   \n\n      Days_Since_Customer  Marital_Status_Ct  Family_Size  Tot_Cmp_Accepted  \\\nID                                                                            \n5524          3863.624032                  1            1                 0   \n2174          3017.624032                  1            3                 0   \n4141          3364.624032                  2            2                 0   \n6182          2957.624032                  2            3                 0   \n5324          3213.624032                  2            3                 0   \n\n      Itm_Total  \nID               \n5524       2252  \n2174         38  \n4141       1202  \n6182         64  \n5324        595  ",
      "text/html": "<div>\n<style scoped>\n    .dataframe tbody tr th:only-of-type {\n        vertical-align: middle;\n    }\n\n    .dataframe tbody tr th {\n        vertical-align: top;\n    }\n\n    .dataframe thead th {\n        text-align: right;\n    }\n</style>\n<table border=\"1\" class=\"dataframe\">\n  <thead>\n    <tr style=\"text-align: right;\">\n      <th></th>\n      <th>Education</th>\n      <th>Income</th>\n      <th>Kidhome</th>\n      <th>Teenhome</th>\n      <th>Recency</th>\n      <th>MntWines</th>\n      <th>MntFruits</th>\n      <th>MntMeatProducts</th>\n      <th>MntFishProducts</th>\n      <th>MntSweetProducts</th>\n      <th>MntGoldProds</th>\n      <th>NumDealsPurchases</th>\n      <th>NumWebPurchases</th>\n      <th>NumCatalogPurchases</th>\n      <th>NumStorePurchases</th>\n      <th>NumWebVisitsMonth</th>\n      <th>Complain</th>\n      <th>Response</th>\n      <th>Age</th>\n      <th>Days_Since_Customer</th>\n      <th>Marital_Status_Ct</th>\n      <th>Family_Size</th>\n      <th>Tot_Cmp_Accepted</th>\n      <th>Itm_Total</th>\n    </tr>\n    <tr>\n      <th>ID</th>\n      <th></th>\n      <th></th>\n      <th></th>\n      <th></th>\n      <th></th>\n      <th></th>\n      <th></th>\n      <th></th>\n      <th></th>\n      <th></th>\n      <th></th>\n      <th></th>\n      <th></th>\n      <th></th>\n      <th></th>\n      <th></th>\n      <th></th>\n      <th></th>\n      <th></th>\n      <th></th>\n      <th></th>\n      <th></th>\n      <th></th>\n      <th></th>\n    </tr>\n  </thead>\n  <tbody>\n    <tr>\n      <th>5524</th>\n      <td>Graduation</td>\n      <td>58138.0</td>\n      <td>0</td>\n      <td>0</td>\n      <td>58</td>\n      <td>635</td>\n      <td>88</td>\n      <td>546</td>\n      <td>172</td>\n      <td>88</td>\n      <td>88</td>\n      <td>3</td>\n      <td>8</td>\n      <td>10</td>\n      <td>4</td>\n      <td>7</td>\n      <td>0</td>\n      <td>1</td>\n      <td>65</td>\n      <td>3863.624032</td>\n      <td>1</td>\n      <td>1</td>\n      <td>0</td>\n      <td>2252</td>\n    </tr>\n    <tr>\n      <th>2174</th>\n      <td>Graduation</td>\n      <td>46344.0</td>\n      <td>1</td>\n      <td>1</td>\n      <td>38</td>\n      <td>11</td>\n      <td>1</td>\n      <td>6</td>\n      <td>2</td>\n      <td>1</td>\n      <td>6</td>\n      <td>2</td>\n      <td>1</td>\n      <td>1</td>\n      <td>2</td>\n      <td>5</td>\n      <td>0</td>\n      <td>0</td>\n      <td>68</td>\n      <td>3017.624032</td>\n      <td>1</td>\n      <td>3</td>\n      <td>0</td>\n      <td>38</td>\n    </tr>\n    <tr>\n      <th>4141</th>\n      <td>Graduation</td>\n      <td>71613.0</td>\n      <td>0</td>\n      <td>0</td>\n      <td>26</td>\n      <td>426</td>\n      <td>49</td>\n      <td>127</td>\n      <td>111</td>\n      <td>21</td>\n      <td>42</td>\n      <td>1</td>\n      <td>8</td>\n      <td>2</td>\n      <td>10</td>\n      <td>4</td>\n      <td>0</td>\n      <td>0</td>\n      <td>57</td>\n      <td>3364.624032</td>\n      <td>2</td>\n      <td>2</td>\n      <td>0</td>\n      <td>1202</td>\n    </tr>\n    <tr>\n      <th>6182</th>\n      <td>Graduation</td>\n      <td>26646.0</td>\n      <td>1</td>\n      <td>0</td>\n      <td>26</td>\n      <td>11</td>\n      <td>4</td>\n      <td>20</td>\n      <td>10</td>\n      <td>3</td>\n      <td>5</td>\n      <td>2</td>\n      <td>2</td>\n      <td>0</td>\n      <td>4</td>\n      <td>6</td>\n      <td>0</td>\n      <td>0</td>\n      <td>38</td>\n      <td>2957.624032</td>\n      <td>2</td>\n      <td>3</td>\n      <td>0</td>\n      <td>64</td>\n    </tr>\n    <tr>\n      <th>5324</th>\n      <td>PhD</td>\n      <td>58293.0</td>\n      <td>1</td>\n      <td>0</td>\n      <td>94</td>\n      <td>173</td>\n      <td>43</td>\n      <td>118</td>\n      <td>46</td>\n      <td>27</td>\n      <td>15</td>\n      <td>5</td>\n      <td>5</td>\n      <td>3</td>\n      <td>6</td>\n      <td>5</td>\n      <td>0</td>\n      <td>0</td>\n      <td>41</td>\n      <td>3213.624032</td>\n      <td>2</td>\n      <td>3</td>\n      <td>0</td>\n      <td>595</td>\n    </tr>\n  </tbody>\n</table>\n</div>"
     },
     "execution_count": 14,
     "metadata": {},
     "output_type": "execute_result"
    }
   ],
   "source": [
    "customer_data_eng.head()"
   ]
  },
  {
   "cell_type": "code",
   "execution_count": 15,
   "id": "9cf613a0-b5dc-473f-9ca1-950dbb028bc6",
   "metadata": {},
   "outputs": [
    {
     "data": {
      "text/plain": "(2240, 24)"
     },
     "execution_count": 15,
     "metadata": {},
     "output_type": "execute_result"
    }
   ],
   "source": [
    "customer_data_eng.shape"
   ]
  },
  {
   "cell_type": "code",
   "execution_count": 16,
   "id": "0b1aa818-c3aa-46da-8629-b1c341782362",
   "metadata": {},
   "outputs": [
    {
     "data": {
      "text/plain": "Education              category\nIncome                  float64\nKidhome                   int64\nTeenhome                  int64\nRecency                   int64\nMntWines                  int64\nMntFruits                 int64\nMntMeatProducts           int64\nMntFishProducts           int64\nMntSweetProducts          int64\nMntGoldProds              int64\nNumDealsPurchases         int64\nNumWebPurchases           int64\nNumCatalogPurchases       int64\nNumStorePurchases         int64\nNumWebVisitsMonth         int64\nComplain                  int64\nResponse                  int64\nAge                       int64\nDays_Since_Customer     float64\nMarital_Status_Ct         int64\nFamily_Size               int64\nTot_Cmp_Accepted          int64\nItm_Total                 int64\ndtype: object"
     },
     "execution_count": 16,
     "metadata": {},
     "output_type": "execute_result"
    }
   ],
   "source": [
    "customer_data_eng.dtypes"
   ]
  },
  {
   "cell_type": "markdown",
   "id": "49303466-9ebb-4fce-82f5-dd69098a65c4",
   "metadata": {},
   "source": [
    "## Handling NA values\n",
    "\n",
    "As **Income** column contains only 24 missing values. Since this only accounts for 1% of the total dataset, imputing the mean will not have great consequences."
   ]
  },
  {
   "cell_type": "code",
   "execution_count": 17,
   "id": "3bcfee6d-049c-4a40-a830-29dbfde99bad",
   "metadata": {},
   "outputs": [],
   "source": [
    "imputer = SimpleImputer(missing_values = np.NaN, strategy='mean')\n",
    "imputer.fit(customer_data_eng.Income.values.reshape(-1,1))\n",
    "customer_data_eng['Income'] = imputer.transform(customer_data_eng.Income.values.reshape(-1,1))"
   ]
  },
  {
   "cell_type": "code",
   "execution_count": 19,
   "id": "268df3b8-1433-452e-861c-dbd6057ba93b",
   "metadata": {},
   "outputs": [
    {
     "name": "stdout",
     "output_type": "stream",
     "text": [
      "Are there any null values?\n",
      "Education              False\n",
      "Income                 False\n",
      "Kidhome                False\n",
      "Teenhome               False\n",
      "Recency                False\n",
      "MntWines               False\n",
      "MntFruits              False\n",
      "MntMeatProducts        False\n",
      "MntFishProducts        False\n",
      "MntSweetProducts       False\n",
      "MntGoldProds           False\n",
      "NumDealsPurchases      False\n",
      "NumWebPurchases        False\n",
      "NumCatalogPurchases    False\n",
      "NumStorePurchases      False\n",
      "NumWebVisitsMonth      False\n",
      "Complain               False\n",
      "Response               False\n",
      "Age                    False\n",
      "Days_Since_Customer    False\n",
      "Marital_Status_Ct      False\n",
      "Family_Size            False\n",
      "Tot_Cmp_Accepted       False\n",
      "Itm_Total              False\n",
      "dtype: bool\n"
     ]
    }
   ],
   "source": [
    "print(\"Are there any null values?\")\n",
    "print(customer_data_eng.isnull().any())"
   ]
  },
  {
   "cell_type": "code",
   "execution_count": 37,
   "outputs": [],
   "source": [
    "x = customer_data_eng[['Complain', 'Age']]\n",
    "y = customer_data_eng[['Itm_Total', 'Days_Since_Customer' ]]"
   ],
   "metadata": {
    "collapsed": false,
    "pycharm": {
     "name": "#%%\n"
    }
   }
  },
  {
   "cell_type": "code",
   "execution_count": 38,
   "outputs": [
    {
     "data": {
      "text/plain": "       Complain       Age\nID                       \n5524   -0.09726  0.985125\n2174   -0.09726  1.235457\n4141   -0.09726  0.317572\n6182   -0.09726 -1.267866\n5324   -0.09726 -1.017534\n...         ...       ...\n10870  -0.09726  0.150684\n4001   -0.09726  1.903010\n7270   -0.09726 -1.017534\n8235   -0.09726  1.068569\n9405   -0.09726  1.235457\n\n[2240 rows x 2 columns]",
      "text/html": "<div>\n<style scoped>\n    .dataframe tbody tr th:only-of-type {\n        vertical-align: middle;\n    }\n\n    .dataframe tbody tr th {\n        vertical-align: top;\n    }\n\n    .dataframe thead th {\n        text-align: right;\n    }\n</style>\n<table border=\"1\" class=\"dataframe\">\n  <thead>\n    <tr style=\"text-align: right;\">\n      <th></th>\n      <th>Complain</th>\n      <th>Age</th>\n    </tr>\n    <tr>\n      <th>ID</th>\n      <th></th>\n      <th></th>\n    </tr>\n  </thead>\n  <tbody>\n    <tr>\n      <th>5524</th>\n      <td>-0.09726</td>\n      <td>0.985125</td>\n    </tr>\n    <tr>\n      <th>2174</th>\n      <td>-0.09726</td>\n      <td>1.235457</td>\n    </tr>\n    <tr>\n      <th>4141</th>\n      <td>-0.09726</td>\n      <td>0.317572</td>\n    </tr>\n    <tr>\n      <th>6182</th>\n      <td>-0.09726</td>\n      <td>-1.267866</td>\n    </tr>\n    <tr>\n      <th>5324</th>\n      <td>-0.09726</td>\n      <td>-1.017534</td>\n    </tr>\n    <tr>\n      <th>...</th>\n      <td>...</td>\n      <td>...</td>\n    </tr>\n    <tr>\n      <th>10870</th>\n      <td>-0.09726</td>\n      <td>0.150684</td>\n    </tr>\n    <tr>\n      <th>4001</th>\n      <td>-0.09726</td>\n      <td>1.903010</td>\n    </tr>\n    <tr>\n      <th>7270</th>\n      <td>-0.09726</td>\n      <td>-1.017534</td>\n    </tr>\n    <tr>\n      <th>8235</th>\n      <td>-0.09726</td>\n      <td>1.068569</td>\n    </tr>\n    <tr>\n      <th>9405</th>\n      <td>-0.09726</td>\n      <td>1.235457</td>\n    </tr>\n  </tbody>\n</table>\n<p>2240 rows × 2 columns</p>\n</div>"
     },
     "execution_count": 38,
     "metadata": {},
     "output_type": "execute_result"
    }
   ],
   "source": [
    "x_mc = (x-x.mean()) / (x.std())\n",
    "y_mc = (y-y.mean()) / (y.std())\n",
    "x_mc"
   ],
   "metadata": {
    "collapsed": false,
    "pycharm": {
     "name": "#%%\n"
    }
   }
  },
  {
   "cell_type": "code",
   "execution_count": 39,
   "outputs": [
    {
     "data": {
      "text/plain": "       Itm_Total  Days_Since_Customer\nID                                   \n5524    1.466646             1.976303\n2174   -0.952512            -1.666639\n4141    0.319349            -0.172430\n6182   -0.924103            -1.925003\n5324   -0.343898            -0.822647\n...          ...                  ...\n10870   1.245928             0.124690\n4001   -0.065269            -1.942228\n7270    1.354101            -0.848484\n8235    0.394742            -0.844178\n9405   -0.714311             1.162455\n\n[2240 rows x 2 columns]",
      "text/html": "<div>\n<style scoped>\n    .dataframe tbody tr th:only-of-type {\n        vertical-align: middle;\n    }\n\n    .dataframe tbody tr th {\n        vertical-align: top;\n    }\n\n    .dataframe thead th {\n        text-align: right;\n    }\n</style>\n<table border=\"1\" class=\"dataframe\">\n  <thead>\n    <tr style=\"text-align: right;\">\n      <th></th>\n      <th>Itm_Total</th>\n      <th>Days_Since_Customer</th>\n    </tr>\n    <tr>\n      <th>ID</th>\n      <th></th>\n      <th></th>\n    </tr>\n  </thead>\n  <tbody>\n    <tr>\n      <th>5524</th>\n      <td>1.466646</td>\n      <td>1.976303</td>\n    </tr>\n    <tr>\n      <th>2174</th>\n      <td>-0.952512</td>\n      <td>-1.666639</td>\n    </tr>\n    <tr>\n      <th>4141</th>\n      <td>0.319349</td>\n      <td>-0.172430</td>\n    </tr>\n    <tr>\n      <th>6182</th>\n      <td>-0.924103</td>\n      <td>-1.925003</td>\n    </tr>\n    <tr>\n      <th>5324</th>\n      <td>-0.343898</td>\n      <td>-0.822647</td>\n    </tr>\n    <tr>\n      <th>...</th>\n      <td>...</td>\n      <td>...</td>\n    </tr>\n    <tr>\n      <th>10870</th>\n      <td>1.245928</td>\n      <td>0.124690</td>\n    </tr>\n    <tr>\n      <th>4001</th>\n      <td>-0.065269</td>\n      <td>-1.942228</td>\n    </tr>\n    <tr>\n      <th>7270</th>\n      <td>1.354101</td>\n      <td>-0.848484</td>\n    </tr>\n    <tr>\n      <th>8235</th>\n      <td>0.394742</td>\n      <td>-0.844178</td>\n    </tr>\n    <tr>\n      <th>9405</th>\n      <td>-0.714311</td>\n      <td>1.162455</td>\n    </tr>\n  </tbody>\n</table>\n<p>2240 rows × 2 columns</p>\n</div>"
     },
     "execution_count": 39,
     "metadata": {},
     "output_type": "execute_result"
    }
   ],
   "source": [
    "y_mc"
   ],
   "metadata": {
    "collapsed": false,
    "pycharm": {
     "name": "#%%\n"
    }
   }
  },
  {
   "cell_type": "code",
   "execution_count": 31,
   "outputs": [],
   "source": [
    "from sklearn.cross_decomposition import CCA"
   ],
   "metadata": {
    "collapsed": false,
    "pycharm": {
     "name": "#%%\n"
    }
   }
  },
  {
   "cell_type": "code",
   "execution_count": 40,
   "outputs": [],
   "source": [
    "ca = CCA()\n",
    "ca.fit(x_mc, y_mc)\n",
    "X_c, Y_c = ca.transform(x_mc, y_mc)"
   ],
   "metadata": {
    "collapsed": false,
    "pycharm": {
     "name": "#%%\n"
    }
   }
  },
  {
   "cell_type": "code",
   "execution_count": 41,
   "outputs": [
    {
     "name": "stdout",
     "output_type": "stream",
     "text": [
      "(2240, 2)\n",
      "(2240, 2)\n"
     ]
    }
   ],
   "source": [
    "print(X_c.shape)\n",
    "print(Y_c.shape)"
   ],
   "metadata": {
    "collapsed": false,
    "pycharm": {
     "name": "#%%\n"
    }
   }
  },
  {
   "cell_type": "markdown",
   "source": [
    "Looking at the shape of the matrix, there are no difference between the complains & ages and the total brought items & number of year since become member."
   ],
   "metadata": {
    "collapsed": false
   }
  }
 ],
 "metadata": {
  "kernelspec": {
   "display_name": "Python 3.10.8 64-bit (microsoft store)",
   "language": "python",
   "name": "python3"
  },
  "language_info": {
   "codemirror_mode": {
    "name": "ipython",
    "version": 3
   },
   "file_extension": ".py",
   "mimetype": "text/x-python",
   "name": "python",
   "nbconvert_exporter": "python",
   "pygments_lexer": "ipython3",
   "version": "3.10.8"
  },
  "toc-autonumbering": true,
  "vscode": {
   "interpreter": {
    "hash": "ccd9628be5440061d21008366fe108a3b0de6babf1deeba0edb0c3485bbbf7a2"
   }
  }
 },
 "nbformat": 4,
 "nbformat_minor": 5
}